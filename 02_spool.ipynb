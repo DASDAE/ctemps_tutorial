{
 "cells": [
  {
   "cell_type": "markdown",
   "id": "0",
   "metadata": {
    "editable": true,
    "slideshow": {
     "slide_type": ""
    },
    "tags": []
   },
   "source": [
    "# Spool Basics\n",
    "\n",
    "August 14, 2025\n",
    "\n",
    "This notebook introduces the basics of DASCore's [`Spool`](https://dascore.org/api/dascore/core/spool/BaseSpool.html). It is a shortened version of the [DASCore's Spool tutorial](https://dascore.org/tutorial/spool.html). \n",
    "\n",
    "<a target=\"_blank\" href=\"https://colab.research.google.com/github/DASDAE/ctemps_tutorial/blob/master/02_spool.ipynb\">\n",
    "  <img src=\"https://colab.research.google.com/assets/colab-badge.svg\" alt=\"Open In Colab\"/>\n",
    "</a>\n",
    "\n",
    "#### Useful links: \n",
    "* [Colab link](https://colab.research.google.com/github/DASDAE/ctemps_tutorial/blob/master/02_spool.ipynb)\n",
    "* [DASCore documentation](https://dascore.org)\n"
   ]
  },
  {
   "cell_type": "code",
   "execution_count": 1,
   "id": "1",
   "metadata": {
    "editable": true,
    "slideshow": {
     "slide_type": ""
    },
    "tags": []
   },
   "outputs": [],
   "source": [
    "%%capture\n",
    "\n",
    "# First ensure DASCore is installed. If not, install and restart the kernel.\n",
    "try:\n",
    "    import dascore as dc\n",
    "except ImportError:\n",
    "    !pip install dascore\n",
    "    !pip install ipympl\n",
    "    # resetart kernel\n",
    "    import IPython\n",
    "    IPython.Application.instance().kernel.do_shutdown(True) #automatically restarts kernel\n",
    "    \n",
    "from rich import print"
   ]
  },
  {
   "cell_type": "markdown",
   "id": "2",
   "metadata": {
    "editable": true,
    "slideshow": {
     "slide_type": ""
    },
    "tags": []
   },
   "source": [
    "# Spool\n",
    "As stated above, the `Spool` class manages a group of patches. `Spool` instances can be initialized in several different ways including: \n",
    "- from in-memory patches\n",
    "- from a single file\n",
    "- from a directory of DAS files"
   ]
  },
  {
   "cell_type": "code",
   "execution_count": 2,
   "id": "3",
   "metadata": {
    "editable": true,
    "slideshow": {
     "slide_type": ""
    },
    "tags": []
   },
   "outputs": [
    {
     "data": {
      "text/plain": [
       "DASCore Patch ⚡\n",
       "---------------\n",
       "➤ Coordinates (distance: 300, time: 2000)\n",
       "    *distance: CoordRange( min: 0 max: 299 step: 1 shape: (300,) dtype: int64 units: m )\n",
       "    *time: CoordRange( min: 2020-01-03 max: 2020-01-03T00:00:07.996 step: 0.004s shape: (2000,) dtype: datetime64[ns] units: s )\n",
       "➤ Data (float64)\n",
       "   [[0.778 0.238 0.824 ... 0.37  0.077 0.232]\n",
       "    [0.497 0.442 0.703 ... 0.126 0.118 0.78 ]\n",
       "    [0.207 0.195 0.174 ... 0.849 0.365 0.807]\n",
       "    ...\n",
       "    [0.619 0.105 0.669 ... 0.621 0.436 0.5  ]\n",
       "    [0.757 0.259 0.091 ... 0.361 0.937 0.104]\n",
       "    [0.158 0.295 0.585 ... 0.229 0.24  0.494]]\n",
       "➤ Attributes\n",
       "    tag: random\n",
       "    category: DAS"
      ]
     },
     "execution_count": 2,
     "metadata": {},
     "output_type": "execute_result"
    }
   ],
   "source": [
    "# This block creates patch files.\n",
    "in_memory_spool = dc.get_example_spool(\"diverse_das\")\n",
    "in_memory_spool[0]\n"
   ]
  },
  {
   "cell_type": "code",
   "execution_count": 3,
   "id": "3ea3f503",
   "metadata": {},
   "outputs": [
    {
     "data": {
      "text/plain": [
       "PosixPath('/var/folders/mc/2m8j_fw97wdcy2b9hwh6ns8h0000gp/T/tmp07z_yjdj/DAS_____smallg__random__2020_01_03T00_00_16__2020_01_03T00_00_24.hdf5')"
      ]
     },
     "execution_count": 3,
     "metadata": {},
     "output_type": "execute_result"
    }
   ],
   "source": [
    "# save patches to disk\n",
    "das_folder_path = dc.examples.spool_to_directory(in_memory_spool)\n",
    "das_file_paths = next(das_folder_path.glob(\"*.hdf5\"))\n",
    "das_file_paths"
   ]
  },
  {
   "cell_type": "code",
   "execution_count": 4,
   "id": "4",
   "metadata": {
    "editable": true,
    "slideshow": {
     "slide_type": ""
    },
    "tags": []
   },
   "outputs": [],
   "source": [
    "# Create a memory spool from a patch or list of patches\n",
    "spool = dc.spool([in_memory_spool[0]])"
   ]
  },
  {
   "cell_type": "code",
   "execution_count": 5,
   "id": "5",
   "metadata": {
    "editable": true,
    "slideshow": {
     "slide_type": ""
    },
    "tags": []
   },
   "outputs": [],
   "source": [
    "# Create a spool from a single file\n",
    "spool = dc.spool(das_file_paths)"
   ]
  },
  {
   "cell_type": "code",
   "execution_count": 6,
   "id": "6",
   "metadata": {
    "editable": true,
    "slideshow": {
     "slide_type": ""
    },
    "tags": []
   },
   "outputs": [],
   "source": [
    "# From a directory of files\n",
    "# Update will create an index of the contents for fast querying/access\n",
    "spool = dc.spool(das_folder_path).update()"
   ]
  },
  {
   "cell_type": "code",
   "execution_count": 7,
   "id": "8",
   "metadata": {
    "editable": true,
    "slideshow": {
     "slide_type": ""
    },
    "tags": []
   },
   "outputs": [
    {
     "data": {
      "text/html": [
       "<div>\n",
       "<style scoped>\n",
       "    .dataframe tbody tr th:only-of-type {\n",
       "        vertical-align: middle;\n",
       "    }\n",
       "\n",
       "    .dataframe tbody tr th {\n",
       "        vertical-align: top;\n",
       "    }\n",
       "\n",
       "    .dataframe thead th {\n",
       "        text-align: right;\n",
       "    }\n",
       "</style>\n",
       "<table border=\"1\" class=\"dataframe\">\n",
       "  <thead>\n",
       "    <tr style=\"text-align: right;\">\n",
       "      <th></th>\n",
       "      <th>station</th>\n",
       "      <th>time_min</th>\n",
       "      <th>time_max</th>\n",
       "      <th>network</th>\n",
       "      <th>file_format</th>\n",
       "      <th>instrument_id</th>\n",
       "      <th>data_type</th>\n",
       "      <th>path</th>\n",
       "      <th>dims</th>\n",
       "      <th>file_version</th>\n",
       "      <th>tag</th>\n",
       "      <th>time_step</th>\n",
       "      <th>experiment_id</th>\n",
       "      <th>data_category</th>\n",
       "      <th>_modified</th>\n",
       "    </tr>\n",
       "  </thead>\n",
       "  <tbody>\n",
       "    <tr>\n",
       "      <th>0</th>\n",
       "      <td>wayout</td>\n",
       "      <td>1989-05-04</td>\n",
       "      <td>1989-05-04 00:00:07.996</td>\n",
       "      <td></td>\n",
       "      <td>DASDAE</td>\n",
       "      <td></td>\n",
       "      <td></td>\n",
       "      <td>DAS_____wayout__random__1989_05_04__1989_05_04...</td>\n",
       "      <td>distance,time</td>\n",
       "      <td>1</td>\n",
       "      <td>random</td>\n",
       "      <td>0 days 00:00:00.004000</td>\n",
       "      <td></td>\n",
       "      <td></td>\n",
       "      <td>False</td>\n",
       "    </tr>\n",
       "    <tr>\n",
       "      <th>1</th>\n",
       "      <td></td>\n",
       "      <td>2020-01-03</td>\n",
       "      <td>2020-01-03 00:00:07.996</td>\n",
       "      <td>das2</td>\n",
       "      <td>DASDAE</td>\n",
       "      <td></td>\n",
       "      <td></td>\n",
       "      <td>DAS___das2____random__2020_01_03__2020_01_03T0...</td>\n",
       "      <td>distance,time</td>\n",
       "      <td>1</td>\n",
       "      <td>random</td>\n",
       "      <td>0 days 00:00:00.004000</td>\n",
       "      <td></td>\n",
       "      <td></td>\n",
       "      <td>False</td>\n",
       "    </tr>\n",
       "    <tr>\n",
       "      <th>2</th>\n",
       "      <td>smallg</td>\n",
       "      <td>2020-01-03</td>\n",
       "      <td>2020-01-03 00:00:07.996</td>\n",
       "      <td></td>\n",
       "      <td>DASDAE</td>\n",
       "      <td></td>\n",
       "      <td></td>\n",
       "      <td>DAS_____smallg__random__2020_01_03__2020_01_03...</td>\n",
       "      <td>distance,time</td>\n",
       "      <td>1</td>\n",
       "      <td>random</td>\n",
       "      <td>0 days 00:00:00.004000</td>\n",
       "      <td></td>\n",
       "      <td></td>\n",
       "      <td>False</td>\n",
       "    </tr>\n",
       "    <tr>\n",
       "      <th>3</th>\n",
       "      <td></td>\n",
       "      <td>2020-01-03</td>\n",
       "      <td>2020-01-03 00:00:07.996</td>\n",
       "      <td></td>\n",
       "      <td>DASDAE</td>\n",
       "      <td></td>\n",
       "      <td></td>\n",
       "      <td>DAS_______random__2020_01_03__2020_01_03T00_00...</td>\n",
       "      <td>distance,time</td>\n",
       "      <td>1</td>\n",
       "      <td>random</td>\n",
       "      <td>0 days 00:00:00.004000</td>\n",
       "      <td></td>\n",
       "      <td></td>\n",
       "      <td>False</td>\n",
       "    </tr>\n",
       "    <tr>\n",
       "      <th>4</th>\n",
       "      <td>big_gaps</td>\n",
       "      <td>2020-01-03</td>\n",
       "      <td>2020-01-03 00:00:07.996</td>\n",
       "      <td></td>\n",
       "      <td>DASDAE</td>\n",
       "      <td></td>\n",
       "      <td></td>\n",
       "      <td>DAS_____big_gaps__random__2020_01_03__2020_01_...</td>\n",
       "      <td>distance,time</td>\n",
       "      <td>1</td>\n",
       "      <td>random</td>\n",
       "      <td>0 days 00:00:00.004000</td>\n",
       "      <td></td>\n",
       "      <td></td>\n",
       "      <td>False</td>\n",
       "    </tr>\n",
       "  </tbody>\n",
       "</table>\n",
       "</div>"
      ],
      "text/plain": [
       "    station   time_min                time_max network file_format  \\\n",
       "0    wayout 1989-05-04 1989-05-04 00:00:07.996              DASDAE   \n",
       "1           2020-01-03 2020-01-03 00:00:07.996    das2      DASDAE   \n",
       "2    smallg 2020-01-03 2020-01-03 00:00:07.996              DASDAE   \n",
       "3           2020-01-03 2020-01-03 00:00:07.996              DASDAE   \n",
       "4  big_gaps 2020-01-03 2020-01-03 00:00:07.996              DASDAE   \n",
       "\n",
       "  instrument_id data_type                                               path  \\\n",
       "0                          DAS_____wayout__random__1989_05_04__1989_05_04...   \n",
       "1                          DAS___das2____random__2020_01_03__2020_01_03T0...   \n",
       "2                          DAS_____smallg__random__2020_01_03__2020_01_03...   \n",
       "3                          DAS_______random__2020_01_03__2020_01_03T00_00...   \n",
       "4                          DAS_____big_gaps__random__2020_01_03__2020_01_...   \n",
       "\n",
       "            dims file_version     tag              time_step experiment_id  \\\n",
       "0  distance,time            1  random 0 days 00:00:00.004000                 \n",
       "1  distance,time            1  random 0 days 00:00:00.004000                 \n",
       "2  distance,time            1  random 0 days 00:00:00.004000                 \n",
       "3  distance,time            1  random 0 days 00:00:00.004000                 \n",
       "4  distance,time            1  random 0 days 00:00:00.004000                 \n",
       "\n",
       "  data_category  _modified  \n",
       "0                    False  \n",
       "1                    False  \n",
       "2                    False  \n",
       "3                    False  \n",
       "4                    False  "
      ]
     },
     "execution_count": 7,
     "metadata": {},
     "output_type": "execute_result"
    }
   ],
   "source": [
    "# Display the contents of a spool as a dataframe\n",
    "contents_df = spool.get_contents()\n",
    "contents_df.head()"
   ]
  },
  {
   "cell_type": "markdown",
   "id": "9",
   "metadata": {},
   "source": [
    "### **Exercise** (Spool 1)\n",
    "\n",
    "Using the diverse das spool, determine how many unique stations are represented. "
   ]
  },
  {
   "cell_type": "code",
   "execution_count": 8,
   "id": "10",
   "metadata": {},
   "outputs": [],
   "source": [
    "diverse_spool = dc.get_example_spool(\"diverse_das\")"
   ]
  },
  {
   "cell_type": "code",
   "execution_count": null,
   "id": "11",
   "metadata": {},
   "outputs": [],
   "source": []
  },
  {
   "cell_type": "markdown",
   "id": "12",
   "metadata": {
    "editable": true,
    "slideshow": {
     "slide_type": ""
    },
    "tags": []
   },
   "source": [
    "### Accessing Patches"
   ]
  },
  {
   "cell_type": "markdown",
   "id": "13",
   "metadata": {
    "editable": true,
    "slideshow": {
     "slide_type": ""
    },
    "tags": []
   },
   "source": [
    "Patches are retrieved using iteration or indexing"
   ]
  },
  {
   "cell_type": "code",
   "execution_count": 9,
   "id": "14",
   "metadata": {
    "editable": true,
    "slideshow": {
     "slide_type": ""
    },
    "tags": []
   },
   "outputs": [],
   "source": [
    "first_patch = spool[0]\n",
    "last_patch = spool[-1]"
   ]
  },
  {
   "cell_type": "code",
   "execution_count": 10,
   "id": "15",
   "metadata": {
    "editable": true,
    "slideshow": {
     "slide_type": ""
    },
    "tags": []
   },
   "outputs": [],
   "source": [
    "for patch in spool:\n",
    "    ...    "
   ]
  },
  {
   "cell_type": "code",
   "execution_count": 11,
   "id": "16",
   "metadata": {
    "editable": true,
    "slideshow": {
     "slide_type": ""
    },
    "tags": []
   },
   "outputs": [],
   "source": [
    "# spools can also be sliced (sub-indexed)\n",
    "sub = spool[1:-1]"
   ]
  },
  {
   "cell_type": "markdown",
   "id": "17",
   "metadata": {},
   "source": [
    "### **Exercise** (Spool 2)\n",
    "\n",
    "Sort the diverse spool based on time (using [`Spool.sort`'](https://dascore.org/api/dascore/core/spool/DataFrameSpool/sort.html)), create a sub-spool with the last 4 patches. Print the attrs of each patch in this spool. "
   ]
  },
  {
   "cell_type": "code",
   "execution_count": null,
   "id": "18",
   "metadata": {},
   "outputs": [],
   "source": []
  },
  {
   "cell_type": "markdown",
   "id": "19",
   "metadata": {
    "editable": true,
    "slideshow": {
     "slide_type": ""
    },
    "tags": []
   },
   "source": [
    "### Selecting"
   ]
  },
  {
   "cell_type": "markdown",
   "id": "20",
   "metadata": {
    "editable": true,
    "slideshow": {
     "slide_type": ""
    },
    "tags": []
   },
   "source": [
    "`Spool` contents can be select (filtered) with `Spool.select`"
   ]
  },
  {
   "cell_type": "code",
   "execution_count": 12,
   "id": "21",
   "metadata": {
    "editable": true,
    "slideshow": {
     "slide_type": ""
    },
    "tags": []
   },
   "outputs": [
    {
     "data": {
      "text/html": [
       "<pre style=\"white-space:pre;overflow-x:auto;line-height:normal;font-family:Menlo,'DejaVu Sans Mono',consolas,'Courier New',monospace\"><span style=\"color: #000080; text-decoration-color: #000080; font-weight: bold\">DAS</span><span style=\"color: #800000; text-decoration-color: #800000; font-weight: bold\">C</span><span style=\"color: #808000; text-decoration-color: #808000; font-weight: bold\">ore</span> <span style=\"font-weight: bold\">DirectorySpool</span> 🧵 (1 Patch)\n",
       "    Path: /var/folders/mc/2m8j_fw97wdcy2b9hwh6ns8h0000gp/T/tmp07z_yjdj\n",
       "</pre>\n"
      ],
      "text/plain": [
       "\u001b[1;34mDAS\u001b[0m\u001b[1;31mC\u001b[0m\u001b[1;33more\u001b[0m \u001b[1mDirectorySpool\u001b[0m 🧵 (1 Patch)\n",
       "    Path: /var/folders/mc/2m8j_fw97wdcy2b9hwh6ns8h0000gp/T/tmp07z_yjdj\n"
      ]
     },
     "metadata": {},
     "output_type": "display_data"
    }
   ],
   "source": [
    "# Return a spool with patches that end before 1990\n",
    "sub_spool = spool.select(time=(..., '1990-01-01'))\n",
    "print(sub_spool)"
   ]
  },
  {
   "cell_type": "code",
   "execution_count": 13,
   "id": "22",
   "metadata": {
    "editable": true,
    "slideshow": {
     "slide_type": ""
    },
    "tags": []
   },
   "outputs": [
    {
     "data": {
      "text/html": [
       "<pre style=\"white-space:pre;overflow-x:auto;line-height:normal;font-family:Menlo,'DejaVu Sans Mono',consolas,'Courier New',monospace\"><span style=\"color: #000080; text-decoration-color: #000080; font-weight: bold\">DAS</span><span style=\"color: #800000; text-decoration-color: #800000; font-weight: bold\">C</span><span style=\"color: #808000; text-decoration-color: #808000; font-weight: bold\">ore</span> <span style=\"font-weight: bold\">DirectorySpool</span> 🧵 (2 Patches)\n",
       "    Path: /var/folders/mc/2m8j_fw97wdcy2b9hwh6ns8h0000gp/T/tmp07z_yjdj\n",
       "</pre>\n"
      ],
      "text/plain": [
       "\u001b[1;34mDAS\u001b[0m\u001b[1;31mC\u001b[0m\u001b[1;33more\u001b[0m \u001b[1mDirectorySpool\u001b[0m 🧵 (2 Patches)\n",
       "    Path: /var/folders/mc/2m8j_fw97wdcy2b9hwh6ns8h0000gp/T/tmp07z_yjdj\n"
      ]
     },
     "metadata": {},
     "output_type": "display_data"
    }
   ],
   "source": [
    "# Return a spool with patches whose station attribute is \"wayout\"\n",
    "sub_spool = spool.select(station=\"wayout\")\n",
    "print(sub_spool)"
   ]
  },
  {
   "cell_type": "code",
   "execution_count": 14,
   "id": "23",
   "metadata": {
    "editable": true,
    "slideshow": {
     "slide_type": ""
    },
    "tags": []
   },
   "outputs": [
    {
     "data": {
      "text/html": [
       "<pre style=\"white-space:pre;overflow-x:auto;line-height:normal;font-family:Menlo,'DejaVu Sans Mono',consolas,'Courier New',monospace\"><span style=\"color: #000080; text-decoration-color: #000080; font-weight: bold\">DAS</span><span style=\"color: #800000; text-decoration-color: #800000; font-weight: bold\">C</span><span style=\"color: #808000; text-decoration-color: #808000; font-weight: bold\">ore</span> <span style=\"font-weight: bold\">DirectorySpool</span> 🧵 (17 Patches)\n",
       "    Path: /var/folders/mc/2m8j_fw97wdcy2b9hwh6ns8h0000gp/T/tmp07z_yjdj\n",
       "</pre>\n"
      ],
      "text/plain": [
       "\u001b[1;34mDAS\u001b[0m\u001b[1;31mC\u001b[0m\u001b[1;33more\u001b[0m \u001b[1mDirectorySpool\u001b[0m 🧵 (17 Patches)\n",
       "    Path: /var/folders/mc/2m8j_fw97wdcy2b9hwh6ns8h0000gp/T/tmp07z_yjdj\n"
      ]
     },
     "metadata": {},
     "output_type": "display_data"
    }
   ],
   "source": [
    "# Return a spool with patches whose tags meets a unix-style match string\n",
    "sub_spool = spool.select(tag=\"*dom\")\n",
    "print(sub_spool)"
   ]
  },
  {
   "cell_type": "markdown",
   "id": "24",
   "metadata": {},
   "source": [
    "### **Exercise** (Spool 3)\n",
    "\n",
    "Create a sub-spool of the diverse spool by selecting all patches with a station code that ends with an 's'. "
   ]
  },
  {
   "cell_type": "code",
   "execution_count": null,
   "id": "25",
   "metadata": {},
   "outputs": [],
   "source": []
  },
  {
   "cell_type": "markdown",
   "id": "26",
   "metadata": {
    "editable": true,
    "slideshow": {
     "slide_type": ""
    },
    "tags": []
   },
   "source": [
    "### Chunking\n",
    "`Spool.chunk` is used to merge contiguous/overlapping patches or create patches of new sizes."
   ]
  },
  {
   "cell_type": "code",
   "execution_count": 15,
   "id": "27",
   "metadata": {
    "editable": true,
    "slideshow": {
     "slide_type": ""
    },
    "tags": []
   },
   "outputs": [
    {
     "data": {
      "text/plain": [
       "DASCore DirectorySpool 🧵 (1 Patch)\n",
       "    Path: /var/folders/mc/2m8j_fw97wdcy2b9hwh6ns8h0000gp/T/tmpvo1hfa5b"
      ]
     },
     "execution_count": 15,
     "metadata": {},
     "output_type": "execute_result"
    }
   ],
   "source": [
    "example_spool = dc.get_example_spool(\"random_directory_das\")\n",
    "# Chunk spool for 3 second increments with 1 second overlaps\n",
    "# and keep any segments at the end that don't have the full 3 seconds.\n",
    "subspool = example_spool.chunk(time=3, overlap=1, keep_partial=True)\n",
    "\n",
    "# Merge all contiguous segments along time dimension.\n",
    "merged_spool = subspool.chunk(time=None)\n",
    "merged_spool"
   ]
  },
  {
   "cell_type": "code",
   "execution_count": 16,
   "id": "a03222fb",
   "metadata": {},
   "outputs": [
    {
     "data": {
      "text/html": [
       "<div>\n",
       "<style scoped>\n",
       "    .dataframe tbody tr th:only-of-type {\n",
       "        vertical-align: middle;\n",
       "    }\n",
       "\n",
       "    .dataframe tbody tr th {\n",
       "        vertical-align: top;\n",
       "    }\n",
       "\n",
       "    .dataframe thead th {\n",
       "        text-align: right;\n",
       "    }\n",
       "</style>\n",
       "<table border=\"1\" class=\"dataframe\">\n",
       "  <thead>\n",
       "    <tr style=\"text-align: right;\">\n",
       "      <th></th>\n",
       "      <th>time_min</th>\n",
       "      <th>time_max</th>\n",
       "      <th>time_step</th>\n",
       "      <th>station</th>\n",
       "      <th>network</th>\n",
       "      <th>instrument_id</th>\n",
       "      <th>data_type</th>\n",
       "      <th>dims</th>\n",
       "      <th>tag</th>\n",
       "      <th>experiment_id</th>\n",
       "      <th>data_category</th>\n",
       "      <th>_group</th>\n",
       "    </tr>\n",
       "  </thead>\n",
       "  <tbody>\n",
       "    <tr>\n",
       "      <th>0</th>\n",
       "      <td>2020-01-03</td>\n",
       "      <td>2020-01-03 00:00:23.996</td>\n",
       "      <td>0 days 00:00:00.004000</td>\n",
       "      <td></td>\n",
       "      <td></td>\n",
       "      <td></td>\n",
       "      <td></td>\n",
       "      <td>distance,time</td>\n",
       "      <td>random</td>\n",
       "      <td></td>\n",
       "      <td></td>\n",
       "      <td>0_0_0</td>\n",
       "    </tr>\n",
       "  </tbody>\n",
       "</table>\n",
       "</div>"
      ],
      "text/plain": [
       "    time_min                time_max              time_step station network  \\\n",
       "0 2020-01-03 2020-01-03 00:00:23.996 0 days 00:00:00.004000                   \n",
       "\n",
       "  instrument_id data_type           dims     tag experiment_id data_category  \\\n",
       "0                          distance,time  random                               \n",
       "\n",
       "  _group  \n",
       "0  0_0_0  "
      ]
     },
     "execution_count": 16,
     "metadata": {},
     "output_type": "execute_result"
    }
   ],
   "source": [
    "contents_df = merged_spool.get_contents()\n",
    "contents_df.head()"
   ]
  },
  {
   "cell_type": "markdown",
   "id": "28",
   "metadata": {},
   "source": [
    "Sometimes the `tolerance` parameter is needed if there are slight gaps in the data. "
   ]
  },
  {
   "cell_type": "markdown",
   "id": "29",
   "metadata": {},
   "source": [
    "### **Exercise** (Spool 4)\n",
    "\n",
    "Do the following: \n",
    "\n",
    "1. Chunk the diverse spool to have 8 second patches (no partial patch needed) with no overlaps.\n",
    "2. Combine all compatible patches along the time dimension. \n",
    "\n",
    "Determine how many patches are in these new spools."
   ]
  },
  {
   "cell_type": "code",
   "execution_count": null,
   "id": "30",
   "metadata": {},
   "outputs": [],
   "source": []
  },
  {
   "cell_type": "markdown",
   "id": "31",
   "metadata": {},
   "source": [
    "In the next section, we show DASCore in action for processing an urban das dataset. \n",
    "- [Github link](https://github.com/DASDAE/ctemps_tutorial/blob/master/03_application.ipynb)\n",
    "- [Colab link](https://colab.research.google.com/github/DASDAE/ctemps_tutorial/blob/master/03_application.ipynb)"
   ]
  }
 ],
 "metadata": {
  "kernelspec": {
   "display_name": "dc_user",
   "language": "python",
   "name": "python3"
  },
  "language_info": {
   "codemirror_mode": {
    "name": "ipython",
    "version": 3
   },
   "file_extension": ".py",
   "mimetype": "text/x-python",
   "name": "python",
   "nbconvert_exporter": "python",
   "pygments_lexer": "ipython3",
   "version": "3.12.11"
  }
 },
 "nbformat": 4,
 "nbformat_minor": 5
}
