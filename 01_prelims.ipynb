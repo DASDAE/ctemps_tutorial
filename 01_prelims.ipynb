{
 "cells": [
  {
   "cell_type": "markdown",
   "id": "0",
   "metadata": {
    "editable": true,
    "slideshow": {
     "slide_type": ""
    },
    "tags": []
   },
   "source": [
    "# DASCore Concepts\n",
    "\n",
    "August 14, 2025\n",
    "\n",
    "This section introduces a few concepts helpful for using DASCore. It is a shortened version of the [concepts section of the DASCore tutorial](https://dascore.org/tutorial/concepts.html). \n",
    "\n",
    "<a target=\"_blank\" href=\"https://colab.research.google.com/github/DASDAE/ctemps_tutorial/blob/master/01_prelims.ipynb\">\n",
    "  <img src=\"https://colab.research.google.com/assets/colab-badge.svg\" alt=\"Open In Colab\"/>\n",
    "</a>\n",
    "\n",
    "\n",
    "#### Useful links: \n",
    "* [Colab link](https://colab.research.google.com/github/DASDAE/ctemps_tutorial/blob/master/01_prelims.ipynb)\n",
    "* [DASCore documentation](https://dascore.org)\n",
    "* [Numpy dates and times](https://numpy.org/devdocs/reference/arrays.datetime.html)\n",
    "* [Pint units library](https://pint.readthedocs.io/en/stable/)\n"
   ]
  },
  {
   "cell_type": "code",
   "execution_count": null,
   "id": "1",
   "metadata": {
    "editable": true,
    "slideshow": {
     "slide_type": ""
    },
    "tags": []
   },
   "outputs": [],
   "source": [
    "%%capture\n",
    "\n",
    "# First ensure DASCore is installed. If not, install and restart the kernel.\n",
    "try:\n",
    "    import dascore as dc\n",
    "except ImportError:\n",
    "    !pip install dascore\n",
    "    !pip install ipympl\n",
    "    # resetart kernel\n",
    "    import IPython\n",
    "    IPython.Application.instance().kernel.do_shutdown(True) #automatically restarts kernel\n",
    "\n",
    "import numpy as np\n",
    "from rich import print\n"
   ]
  },
  {
   "cell_type": "markdown",
   "id": "2",
   "metadata": {},
   "source": [
    "## Dates and Times\n",
    "\n",
    "First, DASCore uses [numpy date/time constructs](https://numpy.org/devdocs/reference/arrays.datetime.html) for representing times and time offsets. These can be created directly using `numpy.datetime64` but dascore provides a bit more flexibility with `to_datetime64`. DASCore also enforces that each time construct has ns precision.\n",
    "\n",
    "Here are a few examples:"
   ]
  },
  {
   "cell_type": "code",
   "execution_count": null,
   "id": "4",
   "metadata": {
    "editable": true,
    "slideshow": {
     "slide_type": ""
    },
    "tags": []
   },
   "outputs": [],
   "source": [
    "# Create a timedelta64 instance with an ISO 8601 string\n",
    "time_1 = dc.to_datetime64(\"2017-09-18T08:02:10.0123\")\n",
    "time_2 = dc.to_datetime64(\"2020-01-03T12:12:12.0213\")\n",
    "\n",
    "# Or a number which is seconds from 1970-01-01\n",
    "time_3 = dc.to_datetime64(1_000_000_000.0)\n",
    "\n",
    "# Or some other time unit\n",
    "time_4 = np.datetime64(1200, 'us')\n",
    "\n",
    "print(time_1) \n",
    "print(time_2)\n",
    "print(time_3)\n",
    "print(time_4)"
   ]
  },
  {
   "cell_type": "code",
   "execution_count": null,
   "id": "5",
   "metadata": {
    "editable": true,
    "slideshow": {
     "slide_type": ""
    },
    "tags": []
   },
   "outputs": [],
   "source": [
    "# The differences of datetime64 is a timedelta64\n",
    "timedelta_1 = time_2 - time_1\n",
    "print(timedelta_1)"
   ]
  },
  {
   "cell_type": "code",
   "execution_count": null,
   "id": "6",
   "metadata": {
    "editable": true,
    "slideshow": {
     "slide_type": ""
    },
    "tags": []
   },
   "outputs": [],
   "source": [
    "# Nanoseconds is often not so readable. These can be converted to floats by dividing\n",
    "# by anther timedelta64\n",
    "diff_seconds = timedelta_1 / dc.to_timedelta64(1)\n",
    "diff_hours = timedelta_1 / dc.to_timedelta64(3600)\n",
    "diff_days = timedelta_1 / dc.to_timedelta64(\"1 day\")\n",
    "\n",
    "print(f\"days: {diff_days}\")\n",
    "print(f\"hours: {diff_hours}\")\n",
    "print(f\"seconds: {diff_seconds}\")"
   ]
  },
  {
   "cell_type": "code",
   "execution_count": null,
   "id": "7",
   "metadata": {
    "editable": true,
    "slideshow": {
     "slide_type": ""
    },
    "tags": []
   },
   "outputs": [],
   "source": [
    "# Or any time thing can be converted to a float (in sec.)\n",
    "timedelta_1_float = dc.to_float(timedelta_1)\n",
    "print(timedelta_1_float)"
   ]
  },
  {
   "cell_type": "markdown",
   "id": "8",
   "metadata": {
    "editable": true,
    "slideshow": {
     "slide_type": ""
    },
    "tags": []
   },
   "source": [
    "### **Exercise** (Dates and times)\n",
    "Calculate the and print following:\n",
    "\n",
    "A DAS array started recording at \"2025-08-14T09:00:00\". A tap test was logged as 1758575900.0 seconds (since 1970-01-01) in the field notes. The total recording time was 1 hour.\n",
    "1. Convert both raw timestamps into ns-precision datetime64 objects. Call them start and taptest and use dc.to_datetime64().\n",
    "2. Compute the time interval between the start and taptest. Use to_timedelta64().\n"
   ]
  },
  {
   "cell_type": "code",
   "execution_count": null,
   "id": "2aff0f5b",
   "metadata": {},
   "outputs": [],
   "source": [
    "\n"
   ]
  },
  {
   "cell_type": "markdown",
   "id": "10",
   "metadata": {
    "editable": true,
    "slideshow": {
     "slide_type": ""
    },
    "tags": []
   },
   "source": [
    "## Units\n",
    "DASCore provides first class (or at least economy plus) support for units using the [pint library](https://pint.readthedocs.io/en/stable/). These can be used in many dascore functions to help avoid unit conversion errors. "
   ]
  },
  {
   "cell_type": "code",
   "execution_count": null,
   "id": "11",
   "metadata": {
    "editable": true,
    "slideshow": {
     "slide_type": ""
    },
    "tags": []
   },
   "outputs": [],
   "source": [
    "from dascore.units import get_quantity, m, ft\n",
    "\n",
    "meters = get_quantity(\"meters\")\n",
    "\n",
    "# Now meters should be equal to 1 meter.\n",
    "assert meters == 1 * m\n",
    "\n",
    "# Convert 10 meters to ft.\n",
    "ten_m = meters * 10\n",
    "print(ten_m.to(ft))"
   ]
  },
  {
   "cell_type": "code",
   "execution_count": null,
   "id": "12",
   "metadata": {
    "editable": true,
    "slideshow": {
     "slide_type": ""
    },
    "tags": []
   },
   "outputs": [],
   "source": [
    "# get_quantity can handle a lot of complexity!\n",
    "load = get_quantity(\"50 kip\")                \n",
    "area = get_quantity(\"200 inch**2\")            \n",
    "stress = load / area                        \n",
    "\n",
    "stress_mpa = stress.to(\"MPa\")             \n",
    "print(\"sigma =\", stress_mpa)"
   ]
  },
  {
   "cell_type": "code",
   "execution_count": null,
   "id": "13",
   "metadata": {},
   "outputs": [],
   "source": [
    "# Qunatities can display their dimensionality\n",
    "print(stress_mpa.dimensionality)"
   ]
  },
  {
   "cell_type": "markdown",
   "id": "14",
   "metadata": {
    "editable": true,
    "slideshow": {
     "slide_type": ""
    },
    "tags": []
   },
   "source": [
    "### **Exercise** (Units)\n",
    "\n",
    "1. Determine now many decimeters are in one furlong. Hint: `Quantity.to_base_units` will be helpful. "
   ]
  },
  {
   "cell_type": "code",
   "execution_count": null,
   "id": "15",
   "metadata": {
    "editable": true,
    "slideshow": {
     "slide_type": ""
    },
    "tags": []
   },
   "outputs": [],
   "source": [
    " "
   ]
  },
  {
   "cell_type": "markdown",
   "id": "16",
   "metadata": {
    "editable": true,
    "slideshow": {
     "slide_type": ""
    },
    "tags": []
   },
   "source": [
    "## Patches and Spools\n",
    "\n",
    "The two main data structures in DASCore are the `Patch` and the `Spool`. The `Patch` is a contiguous n-dimensional array (DFOS data) with associated metadata, and the `Spool` manages a collection of `Patches`. Conceptually, it looks like this:\n",
    "\n",
    "![](https://dascore.org/_static/patch_n_spool.png)\n",
    "\n",
    "In the next section we dive into the `Patch`. \n",
    "\n",
    "- [GitHub link](https://github.com/DASDAE/ctemps_tutorial/blob/master/02_patch.ipynb)\n",
    "- [Colab link](https://colab.research.google.com/github/DASDAE/ctemos_tutorial/blob/master/02_patch.ipynb)"
   ]
  }
 ],
 "metadata": {
  "kernelspec": {
   "display_name": "dc_user",
   "language": "python",
   "name": "python3"
  },
  "language_info": {
   "codemirror_mode": {
    "name": "ipython",
    "version": 3
   },
   "file_extension": ".py",
   "mimetype": "text/x-python",
   "name": "python",
   "nbconvert_exporter": "python",
   "pygments_lexer": "ipython3",
   "version": "3.12.11"
  }
 },
 "nbformat": 4,
 "nbformat_minor": 5
}
