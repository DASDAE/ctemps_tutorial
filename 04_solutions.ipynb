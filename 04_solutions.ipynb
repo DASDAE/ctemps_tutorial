{
 "cells": [
  {
   "cell_type": "markdown",
   "id": "6dc226f3",
   "metadata": {},
   "source": [
    "# Patch"
   ]
  },
  {
   "cell_type": "markdown",
   "id": "005afa57",
   "metadata": {},
   "source": [
    "### **Exercise** (Patch Data)\n",
    "Calculate and print following:\n",
    "\n",
    "1. The number of samples in the data\n",
    "2. The minimum and maximum value of the data"
   ]
  },
  {
   "cell_type": "code",
   "execution_count": null,
   "id": "0086ed8e",
   "metadata": {
    "vscode": {
     "languageId": "plaintext"
    }
   },
   "outputs": [],
   "source": [
    "array.size\n",
    "\n",
    "array.max()\n",
    "array.min()"
   ]
  },
  {
   "cell_type": "markdown",
   "id": "e3851461",
   "metadata": {},
   "source": [
    "### **Exercise** (Patch Attrs)\n",
    "Do the following:\n",
    "\n",
    "1. Print the cable_id from the patch with updated attrs.\n",
    "2. Create a new patch with a station name of \"DAS1\"."
   ]
  },
  {
   "cell_type": "code",
   "execution_count": null,
   "id": "2397c1d1",
   "metadata": {
    "vscode": {
     "languageId": "plaintext"
    }
   },
   "outputs": [],
   "source": [
    "print(patch_updated_attrs.attrs[\"cable_id\"])\n",
    "patch_updated_attrs = patch_updated_attrs.update_attrs(station=\"DAS1\")"
   ]
  },
  {
   "cell_type": "markdown",
   "id": "a2280811",
   "metadata": {},
   "source": [
    "### **Exercise** (Patch Coords)\n",
    "\n",
    "Calculate the and print following parameters:\n",
    "\n",
    "1. The duration (time) of the patch recording using the time coordinate.\n",
    "\n",
    "2. Reset the start of the time coordiante to noon on the release date of Elton John's single Rocket Man (17 April 1972)\n"
   ]
  },
  {
   "cell_type": "code",
   "execution_count": null,
   "id": "538e02f7",
   "metadata": {
    "vscode": {
     "languageId": "plaintext"
    }
   },
   "outputs": [],
   "source": [
    "duration = time_s.max() - time_s.min()\n",
    "duration\n",
    "\n",
    "time_coord = patch.get_coord(\"time\")\n",
    "t_min = \"1972-04-17\" \n",
    "patch_new_time = time_coord.update(min=t_min)\n",
    "patch_new_time"
   ]
  },
  {
   "cell_type": "markdown",
   "id": "e4f91d8e",
   "metadata": {},
   "source": [
    "### **Exercise** (Patch Select)\n",
    "Remove the first 10 spatial channels then the last .05 seconds. "
   ]
  },
  {
   "cell_type": "code",
   "execution_count": null,
   "id": "d25a0028",
   "metadata": {
    "vscode": {
     "languageId": "plaintext"
    }
   },
   "outputs": [],
   "source": [
    "sub_patch = patch.select(distance=(10, None), samples=True).select(time=(None, -0.05), relative=True)\n",
    "sub_patch"
   ]
  },
  {
   "cell_type": "markdown",
   "id": "421f1ac4",
   "metadata": {},
   "source": [
    "### **Exercise** (Transformation)\n",
    "\n",
    "Do the following to the patch above:\n",
    "\n",
    "1. Perform a real discrete Fourier transform along the time axis\n",
    "2. Select frequencies (`ft_time` dimension) less than 500 Hz\n",
    "3. Take the mean along the distance dimension\n",
    "4. Get the amplitude spectra\n",
    "5. Plot using matplotlib and the `ft_time` dimension's values\n"
   ]
  },
  {
   "cell_type": "code",
   "execution_count": null,
   "id": "58541882",
   "metadata": {
    "vscode": {
     "languageId": "plaintext"
    }
   },
   "outputs": [],
   "source": [
    "import matplotlib.pyplot as plt\n",
    "\n",
    "amplitude = patch_fft.data\n",
    "\n",
    "sub_dft = patch_fft.select(ft_time=(None, 500))\n",
    "mean_dft = sub_dft.aggregate(\"distance\")\n",
    "amp = np.abs(mean_dft.squeeze().data)\n",
    "\n",
    "freq = sub_dft.get_array(\"ft_time\")\n",
    "\n",
    "plt.plot(freq, amp)\n",
    "plt.xlabel(\"ft_time [Hz]\")\n",
    "plt.ylabel(\"Amplitude\")\n",
    "plt.title(\"Amplitude vs ft_time\")\n",
    "plt.show()"
   ]
  },
  {
   "cell_type": "markdown",
   "id": "917a10b0",
   "metadata": {},
   "source": [
    "# Spool\n"
   ]
  },
  {
   "cell_type": "markdown",
   "id": "aac284d0",
   "metadata": {},
   "source": [
    "### **Exercise** (Spool 1)\n",
    "\n",
    "Using the diverse das spool, determine how many unique stations are represented. "
   ]
  },
  {
   "cell_type": "code",
   "execution_count": null,
   "id": "63067d7a",
   "metadata": {
    "vscode": {
     "languageId": "plaintext"
    }
   },
   "outputs": [],
   "source": [
    "diverse_spool = dc.get_example_spool(\"diverse_das\")\n",
    "\n",
    "contents_df = diverse_spool.get_contents()\n",
    "stations = contents_df[\"station\"]\n",
    "stations"
   ]
  },
  {
   "cell_type": "markdown",
   "id": "8e037e1e",
   "metadata": {},
   "source": [
    "### **Exercise** (Spool 2)\n",
    "\n",
    "Sort the diverse spool based on time (using [`Spool.sort`'](https://dascore.org/api/dascore/core/spool/DataFrameSpool/sort.html)), create a sub-spool with the last 4 patches. Print the attrs of each patch in this spool. "
   ]
  },
  {
   "cell_type": "code",
   "execution_count": null,
   "id": "1eee1bae",
   "metadata": {
    "vscode": {
     "languageId": "plaintext"
    }
   },
   "outputs": [],
   "source": [
    "sorted_sub_spool = diverse_spool.sort(\"time\")[:4]\n",
    "for patch in sorted_sub_spool:\n",
    "    print(patch.attrs)"
   ]
  },
  {
   "cell_type": "markdown",
   "id": "18bc0c7b",
   "metadata": {},
   "source": [
    "### **Exercise** (Spool 3)\n",
    "\n",
    "Create a sub-spool of the diverse spool by selecting all patches with a station code that ends with an 's'. "
   ]
  },
  {
   "cell_type": "code",
   "execution_count": null,
   "id": "c6f29fd5",
   "metadata": {
    "vscode": {
     "languageId": "plaintext"
    }
   },
   "outputs": [],
   "source": [
    "sub_spool = diverse_spool.select(station=\"*s\")\n",
    "sub_spool"
   ]
  },
  {
   "cell_type": "markdown",
   "id": "190516c7",
   "metadata": {},
   "source": [
    "### **Exercise** (Spool 4)\n",
    "\n",
    "Do the following: \n",
    "\n",
    "1. Chunk the diverse spool to have 8 second patches (no partial patch needed) with no overlaps.\n",
    "2. Combine all compatible patches along the time dimension. \n",
    "\n",
    "Determine how many patches are in these new spools."
   ]
  },
  {
   "cell_type": "code",
   "execution_count": null,
   "id": "3eccd340",
   "metadata": {
    "vscode": {
     "languageId": "plaintext"
    }
   },
   "outputs": [],
   "source": [
    "chunked_spool = diverse_spool.chunk(time=8, keep_partial=False)\n",
    "print(len(chunked_spool))\n",
    "\n",
    "merged_spool = diverse_spool.chunk(time=None)\n",
    "print(len(merged_spool))"
   ]
  },
  {
   "cell_type": "markdown",
   "id": "22cc2050",
   "metadata": {},
   "source": [
    "# Application"
   ]
  },
  {
   "cell_type": "markdown",
   "id": "bb528caa",
   "metadata": {},
   "source": [
    "### **Exercise** \n",
    "Use `Patch.select` to remove the channels outside of study area."
   ]
  },
  {
   "cell_type": "code",
   "execution_count": null,
   "id": "b497e63c",
   "metadata": {
    "vscode": {
     "languageId": "plaintext"
    }
   },
   "outputs": [],
   "source": [
    "sub_patch = patch.select(distance=(50, 550)).taper(time=0.1)"
   ]
  },
  {
   "cell_type": "markdown",
   "id": "c16c55b6",
   "metadata": {},
   "source": [
    "### Exercise \n",
    "Using the `Patch.pass_filter()` funtion, apply a band-pass filter of 1 to 30 Hz. Then, visualize the f-k plot."
   ]
  },
  {
   "cell_type": "code",
   "execution_count": null,
   "id": "6d61aa7d",
   "metadata": {
    "vscode": {
     "languageId": "plaintext"
    }
   },
   "outputs": [],
   "source": [
    "pa_bandpassed = pa_down_sampled.pass_filter(time=(1*Hz, 30*Hz)).viz.spectrogram(scale=0.1)"
   ]
  },
  {
   "cell_type": "markdown",
   "id": "371b5c18",
   "metadata": {},
   "source": [
    "### **Exercise** \n",
    "Use `Patch.rolling` to improve denoising the data by applying a moving median over 0.1 second window with 0.5 step.\n",
    "Then, visualize and save the processed data."
   ]
  },
  {
   "cell_type": "code",
   "execution_count": null,
   "id": "5ec06def",
   "metadata": {
    "vscode": {
     "languageId": "plaintext"
    }
   },
   "outputs": [],
   "source": [
    "patch_median_filtered = patch_slope_filtered.rolling(time=0.1).median()\n",
    "patch_median_filtered.viz.waterfall(scale=0.01)"
   ]
  }
 ],
 "metadata": {
  "language_info": {
   "name": "python"
  }
 },
 "nbformat": 4,
 "nbformat_minor": 5
}
